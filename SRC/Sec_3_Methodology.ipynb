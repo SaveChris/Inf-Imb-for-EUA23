{
 "cells": [
  {
   "cell_type": "markdown",
   "metadata": {},
   "source": [
    "# Section 3 - Methodology"
   ]
  },
  {
   "cell_type": "markdown",
   "metadata": {},
   "source": [
    "## Section 3.2 - Gaussian Process regression"
   ]
  },
  {
   "cell_type": "code",
   "execution_count": 2,
   "metadata": {},
   "outputs": [],
   "source": [
    "import pandas as pd\n",
    "import numpy as np\n",
    "import matplotlib.pyplot as plt\n",
    "import sklearn.gaussian_process.kernels as k\n",
    "from sklearn.gaussian_process import GaussianProcessRegressor\n",
    "from scipy.interpolate import interp1d\n",
    "from sklearn.metrics import r2_score"
   ]
  },
  {
   "cell_type": "code",
   "execution_count": 3,
   "metadata": {},
   "outputs": [],
   "source": [
    "df_ds = pd.read_excel(\"../Data/Dataset_Sample_GDP_Weekly.xlsx\")\n",
    "df_df = pd.read_excel(\"../Data/dataset_X_Final_Weekly.xlsx\")"
   ]
  },
  {
   "cell_type": "code",
   "execution_count": null,
   "metadata": {},
   "outputs": [],
   "source": [
    "xs = np.array(df_ds[\"ID_S\"])\n",
    "ys_ = np.array(df_ds[\"GDP_eu\"])\n",
    "x_final_ = np.array(df_df[\"ID_S\"])\n",
    "ys = (ys_-ys_.mean())/ys_.std()\n",
    "xs = xs/xs.max()\n",
    "x_final = x_final_/x_final_.max()"
   ]
  },
  {
   "cell_type": "code",
   "execution_count": null,
   "metadata": {},
   "outputs": [],
   "source": [
    "kernel = k.Matern(length_scale=1.0, length_scale_bounds=(1.0, 100.0), nu=1)\n",
    "gp = GaussianProcessRegressor(kernel=kernel)\n",
    "gp.fit(np.atleast_2d(xs).T, ys)\n",
    "y_mean, y_std = gp.predict(x_final[:, None], return_std=True)"
   ]
  },
  {
   "cell_type": "code",
   "execution_count": 10,
   "metadata": {},
   "outputs": [],
   "source": [
    "df_ds_2 = pd.read_excel(\"../Data/Dataset_eua_IMv4.3.xlsx\")\n",
    "df_df_2 = pd.read_excel(\"../Data/Dataset_X_Final_Weekly.xlsx\")"
   ]
  },
  {
   "cell_type": "code",
   "execution_count": null,
   "metadata": {},
   "outputs": [],
   "source": [
    "x_final__2 = np.array(df_df_2[\"ID_S\"])\n",
    "xs__2 = np.array(df_ds_2[\"DateS\"])\n",
    "df_ds_2 = (df_ds_2 - df_ds_2.mean())/df_ds_2.std()\n",
    "xs_2 = xs__2/xs__2.max()\n",
    "x_final_2 = x_final__2/x_final__2.max()\n",
    "\n",
    "def running_mean(x, N):\n",
    "    cumsum = np.cumsum(np.insert(x, 0, 0)) \n",
    "    return (cumsum[N:] - cumsum[:-N]) / float(N)\n",
    "\n",
    "def predict_gp(x, y, x_final, error, nu):\n",
    "    kernel =k.Matern(length_scale=1.0, length_scale_bounds=(1e-5, 1e5), nu=1)\n",
    "    gp = GaussianProcessRegressor(kernel, alpha=error)\n",
    "    gp.fit(np.atleast_2d(x).T, y)\n",
    "    y_pred = gp.predict(np.atleast_2d(x_final).T, return_std=False)\n",
    "    return y_pred\n",
    "\n",
    "def compute_aggregation(y, N):\n",
    "    rm_ys = running_mean(y, N)\n",
    "    ys_test_agg = y[int((N-1)/2):int(-(N-1)/2)] - rm_ys\n",
    "    x_final_agg = x_final[int((N-1)/2):int(-(N-1)/2)]\n",
    "    err = 2*np.std(ys_test_agg)\n",
    "    return err, x_final_agg, ys_test_agg"
   ]
  },
  {
   "cell_type": "code",
   "execution_count": 12,
   "metadata": {},
   "outputs": [],
   "source": [
    "N = 5\n",
    "ys_2 = np.array(df_ds_2['eua_last'])\n",
    "err_2, _, _ = compute_aggregation(ys_2, N)\n",
    "y_pred_2 = predict_gp(xs_2, ys_2, x_final_2, error=err_2, nu = 1)"
   ]
  },
  {
   "cell_type": "code",
   "execution_count": null,
   "metadata": {},
   "outputs": [],
   "source": [
    "fig, (ax1, ax2) = plt.subplots(1, 2, figsize=(8,4))\n",
    "ax1.scatter(xs, ys, s=30, label=\"Original\", zorder=20, edgecolor='k', color ='tab:orange')\n",
    "ax1.plot(x_final, y_mean, 'k', lw=3, zorder=10, color = 'k', label=\"Imputed GDP\")\n",
    "ax2.plot(xs_2, df_ds_2['eua_last'], label=\"Original\", zorder=10, lw=1, color ='tab:orange', alpha = 0.85)\n",
    "ax2.plot(x_final_2, y_pred_2, 'k', zorder=20, color = 'k', label=\"Aggregated EU ETS\")\n",
    "ax1.legend()\n",
    "ax2.legend()\n",
    "ax1.set_title('GDP Quarterly to Weekly ', fontsize=15)\n",
    "ax2.set_title('EUA Daily to Weekly', fontsize=15)\n",
    "ax1.grid(axis='both',color=\"black\", alpha=.1)\n",
    "ax2.grid(axis='both',color=\"black\", alpha=.1)\n",
    "#plt.savefig('../Figures/Fig3_AggregationImputation.png', dpi=700, bbox_inches='tight')"
   ]
  },
  {
   "cell_type": "markdown",
   "metadata": {},
   "source": [
    "Figure 3: Imputation and aggregation using GPs. In the left panel, a GP\n",
    "is used to impute the GDP time series variable from quarterly to weekly fre-\n",
    "quency. In the right panel, a GP is used to aggregate the target time series of\n",
    "EUA prices from daily to weekly frequency."
   ]
  },
  {
   "cell_type": "markdown",
   "metadata": {},
   "source": [
    "***"
   ]
  }
 ],
 "metadata": {
  "kernelspec": {
   "display_name": "Python 3",
   "language": "python",
   "name": "python3"
  },
  "language_info": {
   "codemirror_mode": {
    "name": "ipython",
    "version": 3
   },
   "file_extension": ".py",
   "mimetype": "text/x-python",
   "name": "python",
   "nbconvert_exporter": "python",
   "pygments_lexer": "ipython3",
   "version": "3.11.3"
  }
 },
 "nbformat": 4,
 "nbformat_minor": 2
}
