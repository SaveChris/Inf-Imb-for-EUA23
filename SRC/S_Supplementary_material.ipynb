{
 "cells": [
  {
   "cell_type": "markdown",
   "metadata": {},
   "source": [
    "# Supplementary material"
   ]
  },
  {
   "cell_type": "code",
   "execution_count": null,
   "metadata": {},
   "outputs": [],
   "source": [
    "%reset -f"
   ]
  },
  {
   "cell_type": "code",
   "execution_count": null,
   "metadata": {},
   "outputs": [],
   "source": [
    "import pandas as pd\n",
    "import numpy as np\n",
    "import matplotlib.pyplot as plt\n",
    "from dadapy import Data\n",
    "\n",
    "plt.rcParams['text.usetex'] = True"
   ]
  },
  {
   "cell_type": "code",
   "execution_count": null,
   "metadata": {},
   "outputs": [],
   "source": [
    "NUM_COLORS1 = 33\n",
    "cm = plt.get_cmap('Wistia')\n",
    "colors1 = [cm(1.*i/NUM_COLORS1) for i in range(NUM_COLORS1)]\n",
    "colors1_test = np.array(colors1)\n",
    "colors1_test = colors1_test[::-1]\n",
    "NUM_COLORS2 = 33 * 2\n",
    "colors2 = [cm(1.*i/NUM_COLORS2) for i in range(NUM_COLORS2)]\n",
    "\n",
    "NUM_COLORS_g = 10\n",
    "cm2 = plt.get_cmap('Set3')\n",
    "colors_g = [cm2(1.*i/NUM_COLORS_g) for i in range(NUM_COLORS_g)]\n",
    "\n",
    "pd.set_option('display.precision',12)\n",
    "np.set_printoptions(precision=12)"
   ]
  }
 ],
 "metadata": {
  "language_info": {
   "name": "python"
  }
 },
 "nbformat": 4,
 "nbformat_minor": 2
}
