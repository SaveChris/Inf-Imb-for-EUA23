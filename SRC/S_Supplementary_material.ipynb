{
 "cells": [
  {
   "cell_type": "markdown",
   "metadata": {},
   "source": [
    "# Supplementary material"
   ]
  },
  {
   "cell_type": "code",
   "execution_count": null,
   "metadata": {},
   "outputs": [],
   "source": [
    "%reset -f"
   ]
  },
  {
   "cell_type": "code",
   "execution_count": null,
   "metadata": {},
   "outputs": [],
   "source": [
    "import pandas as pd\n",
    "import numpy as np\n",
    "import matplotlib.pyplot as plt\n",
    "from dadapy import Data\n",
    "\n",
    "plt.rcParams['text.usetex'] = True"
   ]
  },
  {
   "cell_type": "code",
   "execution_count": null,
   "metadata": {},
   "outputs": [],
   "source": [
    "NUM_COLORS1 = 33\n",
    "cm = plt.get_cmap('Wistia')\n",
    "colors1 = [cm(1.*i/NUM_COLORS1) for i in range(NUM_COLORS1)]\n",
    "colors1_test = np.array(colors1)\n",
    "colors1_test = colors1_test[::-1]\n",
    "\n",
    "NUM_COLORS2 = 33 * 2\n",
    "colors2 = [cm(1.*i/NUM_COLORS2) for i in range(NUM_COLORS2)]\n",
    "\n",
    "NUM_COLORS_g = 10\n",
    "cm2 = plt.get_cmap('Set3')\n",
    "colors_g = [cm2(1.*i/NUM_COLORS_g) for i in range(NUM_COLORS_g)]\n",
    "\n",
    "pd.set_option('display.precision',12)\n",
    "np.set_printoptions(precision=12)"
   ]
  },
  {
   "cell_type": "code",
   "execution_count": null,
   "metadata": {},
   "outputs": [],
   "source": [
    "# Import the datasets\n",
    "files = [\"../GPNowcastingForecasting/daily_data.txt\"]\n",
    "file_labels = [\"day\"]\n",
    "\n",
    "X_labels = np.array(['GPR', 'VSTOXX', 'Unc. EUR/USD', 'Unc. EUR/JPY', 'Unc. EUR/GBP', 'Unc. EUR/CHF',\n",
    "       'Nat. Gas', 'Elec. p. SPAIN', 'Elec. p. GER', 'Elec. p. IT',\n",
    "       'Elec. p. FR', 'Brent Oil', 'Coal', 'Gold', 'EUR/USD Spot',\n",
    "       'EUR/JPY Spot', 'EUR/GBP Spot', 'EUR/CHF Spot',\n",
    "       'Bloom. Energy p. ind.', 'Sol. ESG fossil ind.',\n",
    "       'SP Euro50 Env. ind.', 'MSCI Ener. sec. ind.', 'ERIX ind.', 'EUROnext100', 'IBEX35', 'DAX',\n",
    "       'CAC', 'FTSEmib', 'EUROSTOXX Elect. ind.', '10 Year Bond y.', '3 Month Bond y.',\n",
    "       'Inflation', 'GDP'])"
   ]
  },
  {
   "cell_type": "code",
   "execution_count": null,
   "metadata": {},
   "outputs": [],
   "source": [
    "data_sets = []\n",
    "for file in files:\n",
    "    data = np.genfromtxt(file)\n",
    "    data_sets.append(data)\n",
    "\n",
    "data_daily = np.genfromtxt(files[0])\n",
    "\n",
    "# Define the informative pool and target set\n",
    "target_d = []\n",
    "X = []\n",
    "\n",
    "target_d = data_daily[:, 0][:, None]\n",
    "X = data_daily[:, 1:]\n",
    "\n",
    "# Convert the X as a dataframe with column names equal to the X_labels\n",
    "X = pd.DataFrame(X, columns=X_labels)\n",
    "\n",
    "X_labels = X.columns\n",
    "\n",
    "# Define the target and the informative pool as numpy arrays\n",
    "X = X.to_numpy(dtype=np.float64)[:,]\n",
    "\n",
    "d_t = Data(target_d, maxk = target_d.shape[0]-1)\n",
    "d_t.compute_distances()\n",
    "\n",
    "d_X = Data(X, maxk = X.shape[0]-1 )\n",
    "d_X.compute_distances()\n",
    "\n",
    "sing_imbalances = d_X.return_inf_imb_target_all_coords(target_ranks = d_t.dist_indices, k = 5)\n",
    "\n",
    "sort_idx = np.argsort(sing_imbalances[1])"
   ]
  }
 ],
 "metadata": {
  "kernelspec": {
   "display_name": "Python 3",
   "language": "python",
   "name": "python3"
  },
  "language_info": {
   "name": "python",
   "version": "3.11.3"
  }
 },
 "nbformat": 4,
 "nbformat_minor": 2
}
